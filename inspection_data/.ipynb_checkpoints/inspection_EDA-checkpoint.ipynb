{
 "cells": [
  {
   "cell_type": "code",
   "execution_count": 1,
   "id": "630470a5-b64f-431b-a7a0-bc6ab98592f2",
   "metadata": {},
   "outputs": [],
   "source": [
    "import pandas as pd"
   ]
  },
  {
   "cell_type": "code",
   "execution_count": 21,
   "id": "0b08db17-f197-476b-99d2-01fdbfa25728",
   "metadata": {},
   "outputs": [],
   "source": [
    "df = pd.read_excel('inspection_details.xlsx', sheet_name = 'raw_data')"
   ]
  },
  {
   "cell_type": "code",
   "execution_count": 22,
   "id": "1d815a57-737d-4924-95af-5d3a69c46ddd",
   "metadata": {},
   "outputs": [
    {
     "data": {
      "text/plain": [
       "(255884, 15)"
      ]
     },
     "execution_count": 22,
     "metadata": {},
     "output_type": "execute_result"
    }
   ],
   "source": [
    "df.shape"
   ]
  },
  {
   "cell_type": "code",
   "execution_count": 4,
   "id": "9be7e912-2be7-4247-a60b-4cded65e0527",
   "metadata": {},
   "outputs": [
    {
     "data": {
      "text/html": [
       "<div>\n",
       "<style scoped>\n",
       "    .dataframe tbody tr th:only-of-type {\n",
       "        vertical-align: middle;\n",
       "    }\n",
       "\n",
       "    .dataframe tbody tr th {\n",
       "        vertical-align: top;\n",
       "    }\n",
       "\n",
       "    .dataframe thead th {\n",
       "        text-align: right;\n",
       "    }\n",
       "</style>\n",
       "<table border=\"1\" class=\"dataframe\">\n",
       "  <thead>\n",
       "    <tr style=\"text-align: right;\">\n",
       "      <th></th>\n",
       "      <th>FEI Number</th>\n",
       "      <th>Legal Name</th>\n",
       "      <th>City</th>\n",
       "      <th>State</th>\n",
       "      <th>Zip</th>\n",
       "      <th>Country/Area</th>\n",
       "      <th>Fiscal Year</th>\n",
       "      <th>Inspection ID</th>\n",
       "      <th>Posted Citations</th>\n",
       "      <th>Inspection End Date</th>\n",
       "      <th>Month</th>\n",
       "      <th>Classification</th>\n",
       "      <th>Project Area</th>\n",
       "      <th>Product Type</th>\n",
       "      <th>FMD-145 Date</th>\n",
       "    </tr>\n",
       "  </thead>\n",
       "  <tbody>\n",
       "    <tr>\n",
       "      <th>0</th>\n",
       "      <td>1000515432</td>\n",
       "      <td>The American National Red Cross</td>\n",
       "      <td>Columbus</td>\n",
       "      <td>Ohio</td>\n",
       "      <td>43215</td>\n",
       "      <td>United States</td>\n",
       "      <td>2022</td>\n",
       "      <td>1164115</td>\n",
       "      <td>No</td>\n",
       "      <td>2022-03-09</td>\n",
       "      <td>3</td>\n",
       "      <td>No Action Indicated (NAI)</td>\n",
       "      <td>Blood and Blood Products</td>\n",
       "      <td>Biologics</td>\n",
       "      <td>-</td>\n",
       "    </tr>\n",
       "    <tr>\n",
       "      <th>1</th>\n",
       "      <td>1000515432</td>\n",
       "      <td>The American National Red Cross</td>\n",
       "      <td>Columbus</td>\n",
       "      <td>Ohio</td>\n",
       "      <td>43215</td>\n",
       "      <td>United States</td>\n",
       "      <td>2022</td>\n",
       "      <td>1164115</td>\n",
       "      <td>No</td>\n",
       "      <td>2022-03-09</td>\n",
       "      <td>3</td>\n",
       "      <td>No Action Indicated (NAI)</td>\n",
       "      <td>Vaccines and Allergenic Products</td>\n",
       "      <td>Biologics</td>\n",
       "      <td>-</td>\n",
       "    </tr>\n",
       "    <tr>\n",
       "      <th>2</th>\n",
       "      <td>3015762396</td>\n",
       "      <td>UNLEASHED LLC</td>\n",
       "      <td>Raleigh</td>\n",
       "      <td>North Carolina</td>\n",
       "      <td>27604</td>\n",
       "      <td>United States</td>\n",
       "      <td>2022</td>\n",
       "      <td>1163661</td>\n",
       "      <td>Yes</td>\n",
       "      <td>2022-03-08</td>\n",
       "      <td>3</td>\n",
       "      <td>No Action Indicated (NAI)</td>\n",
       "      <td>Monitoring of Marketed Animal Drugs, Feed, and...</td>\n",
       "      <td>Veterinary</td>\n",
       "      <td>-</td>\n",
       "    </tr>\n",
       "    <tr>\n",
       "      <th>3</th>\n",
       "      <td>3005892895</td>\n",
       "      <td>Copinol Enterprises Inc</td>\n",
       "      <td>Miami</td>\n",
       "      <td>Florida</td>\n",
       "      <td>33184</td>\n",
       "      <td>United States</td>\n",
       "      <td>2022</td>\n",
       "      <td>1162514</td>\n",
       "      <td>No</td>\n",
       "      <td>2022-03-07</td>\n",
       "      <td>3</td>\n",
       "      <td>No Action Indicated (NAI)</td>\n",
       "      <td>Foodborne Biological Hazards</td>\n",
       "      <td>Food/Cosmetics</td>\n",
       "      <td>-</td>\n",
       "    </tr>\n",
       "    <tr>\n",
       "      <th>4</th>\n",
       "      <td>3007712511</td>\n",
       "      <td>Cogmedix, Inc.</td>\n",
       "      <td>West Boylston</td>\n",
       "      <td>Massachusetts</td>\n",
       "      <td>01583</td>\n",
       "      <td>United States</td>\n",
       "      <td>2022</td>\n",
       "      <td>1164052</td>\n",
       "      <td>No</td>\n",
       "      <td>2022-03-07</td>\n",
       "      <td>3</td>\n",
       "      <td>Voluntary Action Indicated (VAI)</td>\n",
       "      <td>Compliance: Devices</td>\n",
       "      <td>Devices</td>\n",
       "      <td>-</td>\n",
       "    </tr>\n",
       "  </tbody>\n",
       "</table>\n",
       "</div>"
      ],
      "text/plain": [
       "   FEI Number                       Legal Name           City           State  \\\n",
       "0  1000515432  The American National Red Cross       Columbus            Ohio   \n",
       "1  1000515432  The American National Red Cross       Columbus            Ohio   \n",
       "2  3015762396                    UNLEASHED LLC        Raleigh  North Carolina   \n",
       "3  3005892895          Copinol Enterprises Inc          Miami         Florida   \n",
       "4  3007712511                   Cogmedix, Inc.  West Boylston   Massachusetts   \n",
       "\n",
       "     Zip   Country/Area  Fiscal Year  Inspection ID Posted Citations  \\\n",
       "0  43215  United States         2022        1164115               No   \n",
       "1  43215  United States         2022        1164115               No   \n",
       "2  27604  United States         2022        1163661              Yes   \n",
       "3  33184  United States         2022        1162514               No   \n",
       "4  01583  United States         2022        1164052               No   \n",
       "\n",
       "  Inspection End Date  Month                    Classification  \\\n",
       "0          2022-03-09      3         No Action Indicated (NAI)   \n",
       "1          2022-03-09      3         No Action Indicated (NAI)   \n",
       "2          2022-03-08      3         No Action Indicated (NAI)   \n",
       "3          2022-03-07      3         No Action Indicated (NAI)   \n",
       "4          2022-03-07      3  Voluntary Action Indicated (VAI)   \n",
       "\n",
       "                                        Project Area    Product Type  \\\n",
       "0                           Blood and Blood Products       Biologics   \n",
       "1                   Vaccines and Allergenic Products       Biologics   \n",
       "2  Monitoring of Marketed Animal Drugs, Feed, and...      Veterinary   \n",
       "3                       Foodborne Biological Hazards  Food/Cosmetics   \n",
       "4                                Compliance: Devices         Devices   \n",
       "\n",
       "  FMD-145 Date  \n",
       "0            -  \n",
       "1            -  \n",
       "2            -  \n",
       "3            -  \n",
       "4            -  "
      ]
     },
     "execution_count": 4,
     "metadata": {},
     "output_type": "execute_result"
    }
   ],
   "source": [
    "df.head()"
   ]
  },
  {
   "cell_type": "code",
   "execution_count": 5,
   "id": "4d96e937-9247-44c9-bd94-afbffb74170d",
   "metadata": {},
   "outputs": [],
   "source": [
    "df_2 = pd.read_excel('inspection_citation_details.xlsx', sheet_name = 'summary_table')"
   ]
  },
  {
   "cell_type": "code",
   "execution_count": 6,
   "id": "2f0f2b2f-1838-4095-b11e-0c990e57004f",
   "metadata": {},
   "outputs": [
    {
     "name": "stdout",
     "output_type": "stream",
     "text": [
      "(17, 12)\n"
     ]
    },
    {
     "data": {
      "text/html": [
       "<div>\n",
       "<style scoped>\n",
       "    .dataframe tbody tr th:only-of-type {\n",
       "        vertical-align: middle;\n",
       "    }\n",
       "\n",
       "    .dataframe tbody tr th {\n",
       "        vertical-align: top;\n",
       "    }\n",
       "\n",
       "    .dataframe thead th {\n",
       "        text-align: right;\n",
       "    }\n",
       "</style>\n",
       "<table border=\"1\" class=\"dataframe\">\n",
       "  <thead>\n",
       "    <tr style=\"text-align: right;\">\n",
       "      <th></th>\n",
       "      <th>Count of Inspection ID</th>\n",
       "      <th>Column Labels</th>\n",
       "      <th>Unnamed: 2</th>\n",
       "      <th>Unnamed: 3</th>\n",
       "      <th>Unnamed: 4</th>\n",
       "      <th>Unnamed: 5</th>\n",
       "      <th>Unnamed: 6</th>\n",
       "      <th>Unnamed: 7</th>\n",
       "      <th>Unnamed: 8</th>\n",
       "      <th>Unnamed: 9</th>\n",
       "      <th>Unnamed: 10</th>\n",
       "      <th>Unnamed: 11</th>\n",
       "    </tr>\n",
       "  </thead>\n",
       "  <tbody>\n",
       "    <tr>\n",
       "      <th>0</th>\n",
       "      <td>Row Labels</td>\n",
       "      <td>Biologics</td>\n",
       "      <td>Bioresearch Monitoring</td>\n",
       "      <td>Devices</td>\n",
       "      <td>Drugs</td>\n",
       "      <td>Foods</td>\n",
       "      <td>Human Tissue for Transplantation</td>\n",
       "      <td>Part 11 Compliance</td>\n",
       "      <td>Parts 1240 and 1250</td>\n",
       "      <td>Radiologic Health</td>\n",
       "      <td>Veterinary Medicine</td>\n",
       "      <td>Grand Total</td>\n",
       "    </tr>\n",
       "    <tr>\n",
       "      <th>1</th>\n",
       "      <td>2008</td>\n",
       "      <td>78</td>\n",
       "      <td>151</td>\n",
       "      <td>580</td>\n",
       "      <td>408</td>\n",
       "      <td>1204</td>\n",
       "      <td>56</td>\n",
       "      <td>2</td>\n",
       "      <td>68</td>\n",
       "      <td>1</td>\n",
       "      <td>84</td>\n",
       "      <td>2632</td>\n",
       "    </tr>\n",
       "    <tr>\n",
       "      <th>2</th>\n",
       "      <td>2009</td>\n",
       "      <td>479</td>\n",
       "      <td>838</td>\n",
       "      <td>3259</td>\n",
       "      <td>2773</td>\n",
       "      <td>10198</td>\n",
       "      <td>436</td>\n",
       "      <td>3</td>\n",
       "      <td>399</td>\n",
       "      <td>7</td>\n",
       "      <td>452</td>\n",
       "      <td>18844</td>\n",
       "    </tr>\n",
       "    <tr>\n",
       "      <th>3</th>\n",
       "      <td>2010</td>\n",
       "      <td>591</td>\n",
       "      <td>707</td>\n",
       "      <td>3860</td>\n",
       "      <td>3152</td>\n",
       "      <td>12341</td>\n",
       "      <td>338</td>\n",
       "      <td>21</td>\n",
       "      <td>313</td>\n",
       "      <td>41</td>\n",
       "      <td>780</td>\n",
       "      <td>22144</td>\n",
       "    </tr>\n",
       "    <tr>\n",
       "      <th>4</th>\n",
       "      <td>2011</td>\n",
       "      <td>623</td>\n",
       "      <td>566</td>\n",
       "      <td>4243</td>\n",
       "      <td>3376</td>\n",
       "      <td>15212</td>\n",
       "      <td>344</td>\n",
       "      <td>20</td>\n",
       "      <td>281</td>\n",
       "      <td>64</td>\n",
       "      <td>839</td>\n",
       "      <td>25568</td>\n",
       "    </tr>\n",
       "  </tbody>\n",
       "</table>\n",
       "</div>"
      ],
      "text/plain": [
       "  Count of Inspection ID Column Labels              Unnamed: 2 Unnamed: 3  \\\n",
       "0             Row Labels     Biologics  Bioresearch Monitoring    Devices   \n",
       "1                   2008            78                     151        580   \n",
       "2                   2009           479                     838       3259   \n",
       "3                   2010           591                     707       3860   \n",
       "4                   2011           623                     566       4243   \n",
       "\n",
       "  Unnamed: 4 Unnamed: 5                        Unnamed: 6          Unnamed: 7  \\\n",
       "0      Drugs      Foods  Human Tissue for Transplantation  Part 11 Compliance   \n",
       "1        408       1204                                56                   2   \n",
       "2       2773      10198                               436                   3   \n",
       "3       3152      12341                               338                  21   \n",
       "4       3376      15212                               344                  20   \n",
       "\n",
       "            Unnamed: 8         Unnamed: 9          Unnamed: 10  Unnamed: 11  \n",
       "0  Parts 1240 and 1250  Radiologic Health  Veterinary Medicine  Grand Total  \n",
       "1                   68                  1                   84         2632  \n",
       "2                  399                  7                  452        18844  \n",
       "3                  313                 41                  780        22144  \n",
       "4                  281                 64                  839        25568  "
      ]
     },
     "execution_count": 6,
     "metadata": {},
     "output_type": "execute_result"
    }
   ],
   "source": [
    "print(df_2.shape)\n",
    "df_2.head()"
   ]
  },
  {
   "cell_type": "raw",
   "id": "deab04bf-887a-44da-ae02-23539f2faa65",
   "metadata": {},
   "source": [
    "Potential next steps:\n",
    "\n",
    "Take both datasets off https://datadashboard.fda.gov/ora/cd/inspections.htm\n",
    "- Put into kedro\n",
    "- Join them\n",
    "- Answer some hypotheses:\n",
    "    - Has the ratio of Official Action Indicated (OAI) records increased over the past year?\n",
    "    - Has the number of inspections and citations increased over the past year?\n",
    "- Visualize some stuff using google graphs (can delegate to Matt), examples on https://analyticalmeanderings.github.io/blog/imbalance\n",
    "       - https://developers.google.com/chart/interactive/docs/gallery/linechart\n",
    "- Write 3 paragraphs"
   ]
  },
  {
   "cell_type": "markdown",
   "id": "fb9b712d-5d33-4db2-9793-583932c26bc5",
   "metadata": {},
   "source": [
    "COVID has affected nearly every part of our lives - personal, work, and beyond. Despite the well known mailman's creed of \"Neither snow nor rain nor heat nor gloom of night...\", government was no expection to this. We can see this clearly in the collection of data on FDA inspections over the past decade. In the macro - we can see total inspections holding steady between roughly 20-25,0000 from 2010 to 2019. Then, to no one's surprise, we see a steep drop by over 50% in 2020 to 9,638 and still further in 2021 to 7,689. You can see this overall trend clearly below. \n",
    "- graph created & data output is below -> dataframe to list of lists for javascript function"
   ]
  },
  {
   "cell_type": "markdown",
   "id": "65823b3e-3651-4434-9be6-16c2c8751f05",
   "metadata": {},
   "source": [
    "It gets interesting when we zoom in into the types of inspections and the ratios in which they occurred. Here, I want to specifically look at the ratio of Official Action Indicated (OAI) inspections. As a ratio or percent of the total inspections by year, we see a steady rise from 2009 to 2013, a steady decrease from here to 2018, and the beginning of another uptick which actually continued well into COVID with a continued rise in OAI inspections (as a percentage) from 2019-2020 (2.9% -> 3.1%) and 2020-2021 (3.1% -> 3.7%). \n",
    "- graph created with data output below\n",
    "- zoomed in graph on OAI data also generated with data below\n",
    "\n",
    "It will be interesting to see where it goes from here as the sheer overall number of inspections has started to pick up again. We're only nearing the end of Q1 and already approaching 50% of the inspections for 2021. In fact, if we zoom in again on month-by-month inspection totals from the last 2 years, we can clearly see the number of overall inspections increasing. Which, thankfully, seems to be another indication that we're trending towards a return to normalcy. \n",
    "\n",
    "*NOTE:* Why data only shows through 2021 - we're using fiscal year as a proxy since the date of completion is actually a lagging indicator"
   ]
  },
  {
   "cell_type": "code",
   "execution_count": 23,
   "id": "42bbc9bb-e05f-49c0-8333-ee68ded73ddc",
   "metadata": {},
   "outputs": [
    {
     "data": {
      "text/plain": [
       "Index(['FEI Number', 'Legal Name', 'City', 'State', 'Zip', 'Country/Area',\n",
       "       'Fiscal Year', 'Inspection ID', 'Posted Citations',\n",
       "       'Inspection End Date', 'Month', 'Classification', 'Project Area',\n",
       "       'Product Type', 'FMD-145 Date'],\n",
       "      dtype='object')"
      ]
     },
     "execution_count": 23,
     "metadata": {},
     "output_type": "execute_result"
    }
   ],
   "source": [
    "df.columns"
   ]
  },
  {
   "cell_type": "code",
   "execution_count": 25,
   "id": "2c0e8265-cb49-4a48-8252-e5677a98e285",
   "metadata": {},
   "outputs": [
    {
     "data": {
      "text/html": [
       "<div>\n",
       "<style scoped>\n",
       "    .dataframe tbody tr th:only-of-type {\n",
       "        vertical-align: middle;\n",
       "    }\n",
       "\n",
       "    .dataframe tbody tr th {\n",
       "        vertical-align: top;\n",
       "    }\n",
       "\n",
       "    .dataframe thead th {\n",
       "        text-align: right;\n",
       "    }\n",
       "</style>\n",
       "<table border=\"1\" class=\"dataframe\">\n",
       "  <thead>\n",
       "    <tr style=\"text-align: right;\">\n",
       "      <th>Classification</th>\n",
       "      <th>No Action Indicated (NAI)</th>\n",
       "      <th>Official Action Indicated (OAI)</th>\n",
       "      <th>Voluntary Action Indicated (VAI)</th>\n",
       "    </tr>\n",
       "    <tr>\n",
       "      <th>Fiscal Year</th>\n",
       "      <th></th>\n",
       "      <th></th>\n",
       "      <th></th>\n",
       "    </tr>\n",
       "  </thead>\n",
       "  <tbody>\n",
       "    <tr>\n",
       "      <th>2009</th>\n",
       "      <td>10989</td>\n",
       "      <td>701</td>\n",
       "      <td>5908</td>\n",
       "    </tr>\n",
       "    <tr>\n",
       "      <th>2010</th>\n",
       "      <td>13064</td>\n",
       "      <td>884</td>\n",
       "      <td>7569</td>\n",
       "    </tr>\n",
       "    <tr>\n",
       "      <th>2011</th>\n",
       "      <td>15591</td>\n",
       "      <td>1172</td>\n",
       "      <td>8726</td>\n",
       "    </tr>\n",
       "    <tr>\n",
       "      <th>2012</th>\n",
       "      <td>15690</td>\n",
       "      <td>1136</td>\n",
       "      <td>7948</td>\n",
       "    </tr>\n",
       "    <tr>\n",
       "      <th>2013</th>\n",
       "      <td>13771</td>\n",
       "      <td>1136</td>\n",
       "      <td>6654</td>\n",
       "    </tr>\n",
       "    <tr>\n",
       "      <th>2014</th>\n",
       "      <td>12693</td>\n",
       "      <td>994</td>\n",
       "      <td>6755</td>\n",
       "    </tr>\n",
       "    <tr>\n",
       "      <th>2015</th>\n",
       "      <td>12789</td>\n",
       "      <td>1012</td>\n",
       "      <td>6646</td>\n",
       "    </tr>\n",
       "    <tr>\n",
       "      <th>2016</th>\n",
       "      <td>13515</td>\n",
       "      <td>754</td>\n",
       "      <td>6459</td>\n",
       "    </tr>\n",
       "    <tr>\n",
       "      <th>2017</th>\n",
       "      <td>14475</td>\n",
       "      <td>721</td>\n",
       "      <td>6560</td>\n",
       "    </tr>\n",
       "    <tr>\n",
       "      <th>2018</th>\n",
       "      <td>14338</td>\n",
       "      <td>504</td>\n",
       "      <td>6704</td>\n",
       "    </tr>\n",
       "    <tr>\n",
       "      <th>2019</th>\n",
       "      <td>12724</td>\n",
       "      <td>572</td>\n",
       "      <td>6231</td>\n",
       "    </tr>\n",
       "    <tr>\n",
       "      <th>2020</th>\n",
       "      <td>6003</td>\n",
       "      <td>297</td>\n",
       "      <td>3337</td>\n",
       "    </tr>\n",
       "    <tr>\n",
       "      <th>2021</th>\n",
       "      <td>4973</td>\n",
       "      <td>282</td>\n",
       "      <td>2434</td>\n",
       "    </tr>\n",
       "    <tr>\n",
       "      <th>2022</th>\n",
       "      <td>2361</td>\n",
       "      <td>30</td>\n",
       "      <td>782</td>\n",
       "    </tr>\n",
       "  </tbody>\n",
       "</table>\n",
       "</div>"
      ],
      "text/plain": [
       "Classification  No Action Indicated (NAI)  Official Action Indicated (OAI)  \\\n",
       "Fiscal Year                                                                  \n",
       "2009                                10989                              701   \n",
       "2010                                13064                              884   \n",
       "2011                                15591                             1172   \n",
       "2012                                15690                             1136   \n",
       "2013                                13771                             1136   \n",
       "2014                                12693                              994   \n",
       "2015                                12789                             1012   \n",
       "2016                                13515                              754   \n",
       "2017                                14475                              721   \n",
       "2018                                14338                              504   \n",
       "2019                                12724                              572   \n",
       "2020                                 6003                              297   \n",
       "2021                                 4973                              282   \n",
       "2022                                 2361                               30   \n",
       "\n",
       "Classification  Voluntary Action Indicated (VAI)  \n",
       "Fiscal Year                                       \n",
       "2009                                        5908  \n",
       "2010                                        7569  \n",
       "2011                                        8726  \n",
       "2012                                        7948  \n",
       "2013                                        6654  \n",
       "2014                                        6755  \n",
       "2015                                        6646  \n",
       "2016                                        6459  \n",
       "2017                                        6560  \n",
       "2018                                        6704  \n",
       "2019                                        6231  \n",
       "2020                                        3337  \n",
       "2021                                        2434  \n",
       "2022                                         782  "
      ]
     },
     "execution_count": 25,
     "metadata": {},
     "output_type": "execute_result"
    }
   ],
   "source": [
    "# https://pandas.pydata.org/docs/reference/api/pandas.crosstab.html\n",
    "# https://datagy.io/pandas-crosstab/\n",
    "\n",
    "pd.crosstab(df['Fiscal Year'], df.Classification)"
   ]
  },
  {
   "cell_type": "code",
   "execution_count": 41,
   "id": "f8f617a7-209a-4333-9a51-6027682d4b48",
   "metadata": {},
   "outputs": [
    {
     "name": "stdout",
     "output_type": "stream",
     "text": [
      "[['Fiscal Year', 'No Action Indicated (NAI)', 'Official Action Indicated (OAI)', 'Voluntary Action Indicated (VAI)'], [200900.0, 62.44459597681554, 3.98340720536424, 33.5719968178202], [201000.0, 60.71478365943208, 4.10837942092299, 35.176836919644934], [201100.0, 61.16756247793166, 4.59806190905881, 34.23437561300953], [201200.0, 63.33252603535965, 4.58545249051424, 32.0820214741261], [201300.0, 63.86995037335931, 5.2687723203933, 30.86127730624739], [201400.0, 62.09275022013502, 4.8625379121416605, 33.04471186772331], [201500.0, 62.54707292023279, 4.94938132733408, 32.50354575243312], [201600.0, 65.20165959089155, 3.6375916634504, 31.16074874565804], [201700.0, 66.53337010479868, 3.3140283140283096, 30.15260158117301], [201800.0, 66.54599461617006, 2.3391812865497, 31.11482409728023], [201900.0, 65.16105904644851, 2.92927741076458, 31.90966354278691], [202000.0, 62.29116945107399, 3.08187195185223, 34.626958597073774], [202100.0, 64.67681102874236, 3.6675770581349902, 31.655611913122637], [202200.0, 74.40907658367476, 0.94547746612039, 24.64544595020485]]\n"
     ]
    }
   ],
   "source": [
    "df_3 = pd.crosstab(df['Fiscal Year'], df.Classification, normalize='index')\n",
    "df_3.to_csv('bar_chart_data.csv')\n",
    "df_3 = pd.read_csv('bar_chart_data.csv', delimiter=',')\n",
    "list_of_rows = [list(row * 100) for row in df_3.values]\n",
    "# Insert Column names as first list in list of lists\n",
    "list_of_rows.insert(0, df_3.columns.to_list())\n",
    "# Print list of lists i.e. rows\n",
    "print(list_of_rows)"
   ]
  },
  {
   "cell_type": "code",
   "execution_count": 43,
   "id": "de60e1a9-66aa-4598-8b43-8caee44e720a",
   "metadata": {},
   "outputs": [
    {
     "data": {
      "text/plain": [
       "[['Fiscal Year',\n",
       "  'No Action Indicated (NAI)',\n",
       "  'Official Action Indicated (OAI)',\n",
       "  'Voluntary Action Indicated (VAI)'],\n",
       " [200900.0, 62.44459597681554, 3.98340720536424, 33.5719968178202],\n",
       " [201000.0, 60.71478365943208, 4.10837942092299, 35.176836919644934],\n",
       " [201100.0, 61.16756247793166, 4.59806190905881, 34.23437561300953],\n",
       " [201200.0, 63.33252603535965, 4.58545249051424, 32.0820214741261],\n",
       " [201300.0, 63.86995037335931, 5.2687723203933, 30.86127730624739],\n",
       " [201400.0, 62.09275022013502, 4.8625379121416605, 33.04471186772331],\n",
       " [201500.0, 62.54707292023279, 4.94938132733408, 32.50354575243312],\n",
       " [201600.0, 65.20165959089155, 3.6375916634504, 31.16074874565804],\n",
       " [201700.0, 66.53337010479868, 3.3140283140283096, 30.15260158117301],\n",
       " [201800.0, 66.54599461617006, 2.3391812865497, 31.11482409728023],\n",
       " [201900.0, 65.16105904644851, 2.92927741076458, 31.90966354278691],\n",
       " [202000.0, 62.29116945107399, 3.08187195185223, 34.626958597073774],\n",
       " [202100.0, 64.67681102874236, 3.6675770581349902, 31.655611913122637],\n",
       " [202200.0, 74.40907658367476, 0.94547746612039, 24.64544595020485]]"
      ]
     },
     "execution_count": 43,
     "metadata": {},
     "output_type": "execute_result"
    }
   ],
   "source": [
    "list_of_rows"
   ]
  },
  {
   "cell_type": "code",
   "execution_count": 53,
   "id": "66ce4399-c997-4f4b-892f-5ab40593ac86",
   "metadata": {},
   "outputs": [],
   "source": [
    "OAI_list = df_3[['Fiscal Year', 'Official Action Indicated (OAI)']]"
   ]
  },
  {
   "cell_type": "code",
   "execution_count": 58,
   "id": "3b246a63-6c52-4e6a-bbf7-15323c899fbf",
   "metadata": {},
   "outputs": [],
   "source": [
    "list_of_OAI = [list(row * 100) for row in OAI_list.values]"
   ]
  },
  {
   "cell_type": "code",
   "execution_count": 59,
   "id": "88b47519-ac68-4ed5-a49a-2252813235b0",
   "metadata": {},
   "outputs": [
    {
     "data": {
      "text/plain": [
       "[[200900.0, 3.98340720536424],\n",
       " [201000.0, 4.10837942092299],\n",
       " [201100.0, 4.59806190905881],\n",
       " [201200.0, 4.58545249051424],\n",
       " [201300.0, 5.2687723203933],\n",
       " [201400.0, 4.8625379121416605],\n",
       " [201500.0, 4.94938132733408],\n",
       " [201600.0, 3.6375916634504],\n",
       " [201700.0, 3.3140283140283096],\n",
       " [201800.0, 2.3391812865497],\n",
       " [201900.0, 2.92927741076458],\n",
       " [202000.0, 3.08187195185223],\n",
       " [202100.0, 3.6675770581349902],\n",
       " [202200.0, 0.94547746612039]]"
      ]
     },
     "execution_count": 59,
     "metadata": {},
     "output_type": "execute_result"
    }
   ],
   "source": [
    "list_of_OAI"
   ]
  },
  {
   "cell_type": "code",
   "execution_count": 29,
   "id": "22621799-d03b-4faa-84f4-282ecc8b407e",
   "metadata": {},
   "outputs": [
    {
     "data": {
      "text/plain": [
       "Fiscal Year\n",
       "2009    0.039834\n",
       "2010    0.041084\n",
       "2011    0.045981\n",
       "2012    0.045855\n",
       "2013    0.052688\n",
       "2014    0.048625\n",
       "2015    0.049494\n",
       "2016    0.036376\n",
       "2017    0.033140\n",
       "2018    0.023392\n",
       "2019    0.029293\n",
       "2020    0.030819\n",
       "2021    0.036676\n",
       "2022    0.009455\n",
       "Name: Official Action Indicated (OAI), dtype: float64"
      ]
     },
     "execution_count": 29,
     "metadata": {},
     "output_type": "execute_result"
    }
   ],
   "source": [
    "df_3['Official Action Indicated (OAI)']"
   ]
  },
  {
   "cell_type": "code",
   "execution_count": null,
   "id": "9a5df2fe-b926-4550-8a8b-14c308c368d0",
   "metadata": {},
   "outputs": [],
   "source": []
  },
  {
   "cell_type": "code",
   "execution_count": null,
   "id": "7547c530-542b-4bfe-963f-9bc4c1f67932",
   "metadata": {},
   "outputs": [],
   "source": []
  },
  {
   "cell_type": "code",
   "execution_count": 8,
   "id": "338a0cdf-c5fe-4523-90d6-81af4084817d",
   "metadata": {},
   "outputs": [
    {
     "data": {
      "text/html": [
       "<div>\n",
       "<style scoped>\n",
       "    .dataframe tbody tr th:only-of-type {\n",
       "        vertical-align: middle;\n",
       "    }\n",
       "\n",
       "    .dataframe tbody tr th {\n",
       "        vertical-align: top;\n",
       "    }\n",
       "\n",
       "    .dataframe thead th {\n",
       "        text-align: right;\n",
       "    }\n",
       "</style>\n",
       "<table border=\"1\" class=\"dataframe\">\n",
       "  <thead>\n",
       "    <tr style=\"text-align: right;\">\n",
       "      <th></th>\n",
       "      <th>Classification</th>\n",
       "    </tr>\n",
       "    <tr>\n",
       "      <th>Fiscal Year</th>\n",
       "      <th></th>\n",
       "    </tr>\n",
       "  </thead>\n",
       "  <tbody>\n",
       "    <tr>\n",
       "      <th>2009</th>\n",
       "      <td>17598</td>\n",
       "    </tr>\n",
       "    <tr>\n",
       "      <th>2010</th>\n",
       "      <td>21517</td>\n",
       "    </tr>\n",
       "    <tr>\n",
       "      <th>2011</th>\n",
       "      <td>25489</td>\n",
       "    </tr>\n",
       "    <tr>\n",
       "      <th>2012</th>\n",
       "      <td>24774</td>\n",
       "    </tr>\n",
       "    <tr>\n",
       "      <th>2013</th>\n",
       "      <td>21561</td>\n",
       "    </tr>\n",
       "    <tr>\n",
       "      <th>2014</th>\n",
       "      <td>20442</td>\n",
       "    </tr>\n",
       "    <tr>\n",
       "      <th>2015</th>\n",
       "      <td>20447</td>\n",
       "    </tr>\n",
       "    <tr>\n",
       "      <th>2016</th>\n",
       "      <td>20728</td>\n",
       "    </tr>\n",
       "    <tr>\n",
       "      <th>2017</th>\n",
       "      <td>21756</td>\n",
       "    </tr>\n",
       "    <tr>\n",
       "      <th>2018</th>\n",
       "      <td>21546</td>\n",
       "    </tr>\n",
       "    <tr>\n",
       "      <th>2019</th>\n",
       "      <td>19527</td>\n",
       "    </tr>\n",
       "    <tr>\n",
       "      <th>2020</th>\n",
       "      <td>9637</td>\n",
       "    </tr>\n",
       "    <tr>\n",
       "      <th>2021</th>\n",
       "      <td>7689</td>\n",
       "    </tr>\n",
       "    <tr>\n",
       "      <th>2022</th>\n",
       "      <td>3173</td>\n",
       "    </tr>\n",
       "  </tbody>\n",
       "</table>\n",
       "</div>"
      ],
      "text/plain": [
       "             Classification\n",
       "Fiscal Year                \n",
       "2009                  17598\n",
       "2010                  21517\n",
       "2011                  25489\n",
       "2012                  24774\n",
       "2013                  21561\n",
       "2014                  20442\n",
       "2015                  20447\n",
       "2016                  20728\n",
       "2017                  21756\n",
       "2018                  21546\n",
       "2019                  19527\n",
       "2020                   9637\n",
       "2021                   7689\n",
       "2022                   3173"
      ]
     },
     "execution_count": 8,
     "metadata": {},
     "output_type": "execute_result"
    }
   ],
   "source": [
    "pivot = df.pivot_table(index =['Fiscal Year'],\n",
    "                       values =['Classification'],\n",
    "                       aggfunc ='count')\n",
    "pivot"
   ]
  },
  {
   "cell_type": "code",
   "execution_count": 9,
   "id": "8718219a-0c3b-454c-bcb7-ab1e7ab1d583",
   "metadata": {},
   "outputs": [
    {
     "data": {
      "text/html": [
       "<div>\n",
       "<style scoped>\n",
       "    .dataframe tbody tr th:only-of-type {\n",
       "        vertical-align: middle;\n",
       "    }\n",
       "\n",
       "    .dataframe tbody tr th {\n",
       "        vertical-align: top;\n",
       "    }\n",
       "\n",
       "    .dataframe thead th {\n",
       "        text-align: right;\n",
       "    }\n",
       "</style>\n",
       "<table border=\"1\" class=\"dataframe\">\n",
       "  <thead>\n",
       "    <tr style=\"text-align: right;\">\n",
       "      <th></th>\n",
       "      <th>Classification</th>\n",
       "    </tr>\n",
       "    <tr>\n",
       "      <th>Fiscal Year</th>\n",
       "      <th></th>\n",
       "    </tr>\n",
       "  </thead>\n",
       "  <tbody>\n",
       "    <tr>\n",
       "      <th>2009</th>\n",
       "      <td>17598</td>\n",
       "    </tr>\n",
       "    <tr>\n",
       "      <th>2010</th>\n",
       "      <td>21517</td>\n",
       "    </tr>\n",
       "    <tr>\n",
       "      <th>2011</th>\n",
       "      <td>25489</td>\n",
       "    </tr>\n",
       "    <tr>\n",
       "      <th>2012</th>\n",
       "      <td>24774</td>\n",
       "    </tr>\n",
       "    <tr>\n",
       "      <th>2013</th>\n",
       "      <td>21561</td>\n",
       "    </tr>\n",
       "    <tr>\n",
       "      <th>2014</th>\n",
       "      <td>20442</td>\n",
       "    </tr>\n",
       "    <tr>\n",
       "      <th>2015</th>\n",
       "      <td>20447</td>\n",
       "    </tr>\n",
       "    <tr>\n",
       "      <th>2016</th>\n",
       "      <td>20728</td>\n",
       "    </tr>\n",
       "    <tr>\n",
       "      <th>2017</th>\n",
       "      <td>21756</td>\n",
       "    </tr>\n",
       "    <tr>\n",
       "      <th>2018</th>\n",
       "      <td>21546</td>\n",
       "    </tr>\n",
       "    <tr>\n",
       "      <th>2019</th>\n",
       "      <td>19527</td>\n",
       "    </tr>\n",
       "    <tr>\n",
       "      <th>2020</th>\n",
       "      <td>9637</td>\n",
       "    </tr>\n",
       "    <tr>\n",
       "      <th>2021</th>\n",
       "      <td>7689</td>\n",
       "    </tr>\n",
       "    <tr>\n",
       "      <th>2022</th>\n",
       "      <td>3173</td>\n",
       "    </tr>\n",
       "  </tbody>\n",
       "</table>\n",
       "</div>"
      ],
      "text/plain": [
       "             Classification\n",
       "Fiscal Year                \n",
       "2009                  17598\n",
       "2010                  21517\n",
       "2011                  25489\n",
       "2012                  24774\n",
       "2013                  21561\n",
       "2014                  20442\n",
       "2015                  20447\n",
       "2016                  20728\n",
       "2017                  21756\n",
       "2018                  21546\n",
       "2019                  19527\n",
       "2020                   9637\n",
       "2021                   7689\n",
       "2022                   3173"
      ]
     },
     "execution_count": 9,
     "metadata": {},
     "output_type": "execute_result"
    }
   ],
   "source": [
    "table = pd.pivot_table(df, values=['Classification'], index=['Fiscal Year'], aggfunc='count')\n",
    "table"
   ]
  },
  {
   "cell_type": "code",
   "execution_count": 12,
   "id": "d5b0c0e3-3180-4cea-bd0b-9a19b8db16b0",
   "metadata": {},
   "outputs": [
    {
     "data": {
      "text/plain": [
       "pandas.core.frame.DataFrame"
      ]
     },
     "execution_count": 12,
     "metadata": {},
     "output_type": "execute_result"
    }
   ],
   "source": [
    "type(table)"
   ]
  },
  {
   "cell_type": "code",
   "execution_count": 13,
   "id": "562dacc3-792e-43f7-83f8-9310e6e388ae",
   "metadata": {},
   "outputs": [
    {
     "name": "stdout",
     "output_type": "stream",
     "text": [
      "             Classification\n",
      "Fiscal Year                \n",
      "2009                  17598\n",
      "2010                  21517\n",
      "2011                  25489\n",
      "2012                  24774\n",
      "2013                  21561\n",
      "2014                  20442\n",
      "2015                  20447\n",
      "2016                  20728\n",
      "2017                  21756\n",
      "2018                  21546\n",
      "2019                  19527\n",
      "2020                   9637\n",
      "2021                   7689\n",
      "2022                   3173\n"
     ]
    }
   ],
   "source": [
    "print(table)"
   ]
  },
  {
   "cell_type": "code",
   "execution_count": 14,
   "id": "6ac910a4-aaf3-456d-a636-1dbe5a3fe12e",
   "metadata": {},
   "outputs": [],
   "source": [
    "table.to_csv('line_chart_data.csv')"
   ]
  },
  {
   "cell_type": "code",
   "execution_count": 15,
   "id": "9d424bf1-2648-4d0f-a251-e3f35541e5ee",
   "metadata": {},
   "outputs": [
    {
     "data": {
      "text/plain": [
       "[[17598],\n",
       " [21517],\n",
       " [25489],\n",
       " [24774],\n",
       " [21561],\n",
       " [20442],\n",
       " [20447],\n",
       " [20728],\n",
       " [21756],\n",
       " [21546],\n",
       " [19527],\n",
       " [9637],\n",
       " [7689],\n",
       " [3173]]"
      ]
     },
     "execution_count": 15,
     "metadata": {},
     "output_type": "execute_result"
    }
   ],
   "source": [
    "table_list = table.values.tolist()\n",
    "table_list"
   ]
  },
  {
   "cell_type": "code",
   "execution_count": 16,
   "id": "8388b2dc-67ef-4533-ae40-7142239029a5",
   "metadata": {},
   "outputs": [
    {
     "name": "stdout",
     "output_type": "stream",
     "text": [
      "[['Fiscal Year', 'Classification'], [2009, 17598], [2010, 21517], [2011, 25489], [2012, 24774], [2013, 21561], [2014, 20442], [2015, 20447], [2016, 20728], [2017, 21756], [2018, 21546], [2019, 19527], [2020, 9637], [2021, 7689], [2022, 3173]]\n"
     ]
    }
   ],
   "source": [
    "# Create a dataframe from csv\n",
    "df = pd.read_csv('line_chart_data.csv', delimiter=',')\n",
    "# User list comprehension to create a list of lists from Dataframe rows\n",
    "list_of_rows = [list(row) for row in df.values]\n",
    "# Insert Column names as first list in list of lists\n",
    "list_of_rows.insert(0, df.columns.to_list())\n",
    "# Print list of lists i.e. rows\n",
    "print(list_of_rows)"
   ]
  },
  {
   "cell_type": "code",
   "execution_count": 17,
   "id": "b6f23694-43a1-4af8-a0d1-f7a9412191ae",
   "metadata": {},
   "outputs": [
    {
     "data": {
      "text/plain": [
       "[['Fiscal Year', 'Classification'],\n",
       " [2009, 17598],\n",
       " [2010, 21517],\n",
       " [2011, 25489],\n",
       " [2012, 24774],\n",
       " [2013, 21561],\n",
       " [2014, 20442],\n",
       " [2015, 20447],\n",
       " [2016, 20728],\n",
       " [2017, 21756],\n",
       " [2018, 21546],\n",
       " [2019, 19527],\n",
       " [2020, 9637],\n",
       " [2021, 7689],\n",
       " [2022, 3173]]"
      ]
     },
     "execution_count": 17,
     "metadata": {},
     "output_type": "execute_result"
    }
   ],
   "source": [
    "list_of_rows"
   ]
  },
  {
   "cell_type": "code",
   "execution_count": null,
   "id": "5346923c-c900-4e36-bdd5-7664f9754e8c",
   "metadata": {},
   "outputs": [],
   "source": []
  }
 ],
 "metadata": {
  "kernelspec": {
   "display_name": "Python 3 (ipykernel)",
   "language": "python",
   "name": "python3"
  },
  "language_info": {
   "codemirror_mode": {
    "name": "ipython",
    "version": 3
   },
   "file_extension": ".py",
   "mimetype": "text/x-python",
   "name": "python",
   "nbconvert_exporter": "python",
   "pygments_lexer": "ipython3",
   "version": "3.10.2"
  }
 },
 "nbformat": 4,
 "nbformat_minor": 5
}
